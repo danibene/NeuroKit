{
 "cells": [
  {
   "cell_type": "markdown",
   "metadata": {},
   "source": [
    "[Ciccone et al. (2017)](https://doi.org/10.1002/mus.25573) claims that the HRV metrics RMSSD and SD1 are identical. This paper is cited in the open-source toolbox Neurokit2 (in the function hrv_nonlinear). But when I use Neurokit2 to generate ECG data and compute RMSSD and SD1, they are not perfectly correlated:"
   ]
  },
  {
   "cell_type": "code",
   "execution_count": 1,
   "metadata": {
    "id": "XWJYgvmbt7GQ"
   },
   "outputs": [],
   "source": [
    "import neurokit2 as nk\n",
    "import numpy as np\n",
    "import pandas as pd"
   ]
  },
  {
   "cell_type": "code",
   "execution_count": 2,
   "metadata": {
    "colab": {
     "base_uri": "https://localhost:8080/"
    },
    "id": "FJ2jasBwt2UZ",
    "outputId": "e325b069-3392-4825-ed3b-c0af85adf038",
    "scrolled": true
   },
   "outputs": [
    {
     "name": "stderr",
     "output_type": "stream",
     "text": [
      "c:\\programdata\\miniconda3\\lib\\site-packages\\neurokit2\\signal\\signal_psd.py:113: NeuroKitWarning: The duration of recording is too short to support a sufficiently long window for high frequency resolution. Consider using a longer recording or increasing the `min_frequency`\n",
      "  category=NeuroKitWarning\n",
      "c:\\programdata\\miniconda3\\lib\\site-packages\\neurokit2\\signal\\signal_psd.py:113: NeuroKitWarning: The duration of recording is too short to support a sufficiently long window for high frequency resolution. Consider using a longer recording or increasing the `min_frequency`\n",
      "  category=NeuroKitWarning\n",
      "c:\\programdata\\miniconda3\\lib\\site-packages\\neurokit2\\signal\\signal_psd.py:113: NeuroKitWarning: The duration of recording is too short to support a sufficiently long window for high frequency resolution. Consider using a longer recording or increasing the `min_frequency`\n",
      "  category=NeuroKitWarning\n",
      "c:\\programdata\\miniconda3\\lib\\site-packages\\neurokit2\\signal\\signal_psd.py:113: NeuroKitWarning: The duration of recording is too short to support a sufficiently long window for high frequency resolution. Consider using a longer recording or increasing the `min_frequency`\n",
      "  category=NeuroKitWarning\n",
      "c:\\programdata\\miniconda3\\lib\\site-packages\\neurokit2\\signal\\signal_psd.py:113: NeuroKitWarning: The duration of recording is too short to support a sufficiently long window for high frequency resolution. Consider using a longer recording or increasing the `min_frequency`\n",
      "  category=NeuroKitWarning\n",
      "c:\\programdata\\miniconda3\\lib\\site-packages\\neurokit2\\signal\\signal_psd.py:113: NeuroKitWarning: The duration of recording is too short to support a sufficiently long window for high frequency resolution. Consider using a longer recording or increasing the `min_frequency`\n",
      "  category=NeuroKitWarning\n",
      "c:\\programdata\\miniconda3\\lib\\site-packages\\neurokit2\\signal\\signal_psd.py:113: NeuroKitWarning: The duration of recording is too short to support a sufficiently long window for high frequency resolution. Consider using a longer recording or increasing the `min_frequency`\n",
      "  category=NeuroKitWarning\n",
      "c:\\programdata\\miniconda3\\lib\\site-packages\\neurokit2\\signal\\signal_psd.py:113: NeuroKitWarning: The duration of recording is too short to support a sufficiently long window for high frequency resolution. Consider using a longer recording or increasing the `min_frequency`\n",
      "  category=NeuroKitWarning\n",
      "c:\\programdata\\miniconda3\\lib\\site-packages\\neurokit2\\signal\\signal_psd.py:113: NeuroKitWarning: The duration of recording is too short to support a sufficiently long window for high frequency resolution. Consider using a longer recording or increasing the `min_frequency`\n",
      "  category=NeuroKitWarning\n"
     ]
    }
   ],
   "source": [
    "default_hrv_df_list = []\n",
    "sampling_rate = 250\n",
    "peaks_list = []\n",
    "# with 9 random seeds\n",
    "for seed in range(9):\n",
    "    # simulate 30 second ECG signal\n",
    "    ecg = nk.ecg_simulate(duration=30, sampling_rate=sampling_rate, random_state=seed)\n",
    "    # extract peaks\n",
    "    peaks, info = nk.ecg_peaks(ecg, sampling_rate=sampling_rate)\n",
    "    peaks_list.append(peaks)\n",
    "    # extract HRV features using Neurokit2\n",
    "    default_hrv_df_list.append(nk.hrv(peaks_list[seed]))\n",
    "\n",
    "# concatenate 9 sets of extracted HRV features\n",
    "default_hrv_df = pd.concat(default_hrv_df_list)"
   ]
  },
  {
   "cell_type": "code",
   "execution_count": 3,
   "metadata": {},
   "outputs": [
    {
     "data": {
      "text/html": [
       "<div>\n",
       "<style scoped>\n",
       "    .dataframe tbody tr th:only-of-type {\n",
       "        vertical-align: middle;\n",
       "    }\n",
       "\n",
       "    .dataframe tbody tr th {\n",
       "        vertical-align: top;\n",
       "    }\n",
       "\n",
       "    .dataframe thead th {\n",
       "        text-align: right;\n",
       "    }\n",
       "</style>\n",
       "<table border=\"1\" class=\"dataframe\">\n",
       "  <thead>\n",
       "    <tr style=\"text-align: right;\">\n",
       "      <th></th>\n",
       "      <th>HRV_RMSSD</th>\n",
       "      <th>HRV_SDSD</th>\n",
       "      <th>HRV_SD1</th>\n",
       "    </tr>\n",
       "  </thead>\n",
       "  <tbody>\n",
       "    <tr>\n",
       "      <th>HRV_RMSSD</th>\n",
       "      <td>1.000000</td>\n",
       "      <td>0.999531</td>\n",
       "      <td>0.999531</td>\n",
       "    </tr>\n",
       "    <tr>\n",
       "      <th>HRV_SDSD</th>\n",
       "      <td>0.999531</td>\n",
       "      <td>1.000000</td>\n",
       "      <td>1.000000</td>\n",
       "    </tr>\n",
       "    <tr>\n",
       "      <th>HRV_SD1</th>\n",
       "      <td>0.999531</td>\n",
       "      <td>1.000000</td>\n",
       "      <td>1.000000</td>\n",
       "    </tr>\n",
       "  </tbody>\n",
       "</table>\n",
       "</div>"
      ],
      "text/plain": [
       "           HRV_RMSSD  HRV_SDSD   HRV_SD1\n",
       "HRV_RMSSD   1.000000  0.999531  0.999531\n",
       "HRV_SDSD    0.999531  1.000000  1.000000\n",
       "HRV_SD1     0.999531  1.000000  1.000000"
      ]
     },
     "execution_count": 3,
     "metadata": {},
     "output_type": "execute_result"
    }
   ],
   "source": [
    "default_hrv_df.corr(method=\"pearson\").loc[[\"HRV_RMSSD\", \"HRV_SDSD\", \"HRV_SD1\"],\n",
    "                                           [\"HRV_RMSSD\", \"HRV_SDSD\", \"HRV_SD1\"]]"
   ]
  },
  {
   "cell_type": "code",
   "execution_count": 4,
   "metadata": {},
   "outputs": [
    {
     "data": {
      "text/html": [
       "<div>\n",
       "<style scoped>\n",
       "    .dataframe tbody tr th:only-of-type {\n",
       "        vertical-align: middle;\n",
       "    }\n",
       "\n",
       "    .dataframe tbody tr th {\n",
       "        vertical-align: top;\n",
       "    }\n",
       "\n",
       "    .dataframe thead th {\n",
       "        text-align: right;\n",
       "    }\n",
       "</style>\n",
       "<table border=\"1\" class=\"dataframe\">\n",
       "  <thead>\n",
       "    <tr style=\"text-align: right;\">\n",
       "      <th></th>\n",
       "      <th>HRV_RMSSD</th>\n",
       "      <th>HRV_SDSD</th>\n",
       "      <th>HRV_SD1</th>\n",
       "    </tr>\n",
       "  </thead>\n",
       "  <tbody>\n",
       "    <tr>\n",
       "      <th>HRV_RMSSD</th>\n",
       "      <td>1.000000</td>\n",
       "      <td>0.979088</td>\n",
       "      <td>0.979088</td>\n",
       "    </tr>\n",
       "    <tr>\n",
       "      <th>HRV_SDSD</th>\n",
       "      <td>0.979088</td>\n",
       "      <td>1.000000</td>\n",
       "      <td>1.000000</td>\n",
       "    </tr>\n",
       "    <tr>\n",
       "      <th>HRV_SD1</th>\n",
       "      <td>0.979088</td>\n",
       "      <td>1.000000</td>\n",
       "      <td>1.000000</td>\n",
       "    </tr>\n",
       "  </tbody>\n",
       "</table>\n",
       "</div>"
      ],
      "text/plain": [
       "           HRV_RMSSD  HRV_SDSD   HRV_SD1\n",
       "HRV_RMSSD   1.000000  0.979088  0.979088\n",
       "HRV_SDSD    0.979088  1.000000  1.000000\n",
       "HRV_SD1     0.979088  1.000000  1.000000"
      ]
     },
     "execution_count": 4,
     "metadata": {},
     "output_type": "execute_result"
    }
   ],
   "source": [
    "default_hrv_df.corr(method=\"spearman\").loc[[\"HRV_RMSSD\", \"HRV_SDSD\", \"HRV_SD1\"],\n",
    "                                           [\"HRV_RMSSD\", \"HRV_SDSD\", \"HRV_SD1\"]]"
   ]
  },
  {
   "cell_type": "markdown",
   "metadata": {},
   "source": [
    "Equation 1 in [Ciccone et al. (2017)](https://doi.org/10.1002/mus.25573):\n",
    "$$\n",
    "\\mathrm{RMSSD}=\\sqrt{\\frac{\\sum_{i=1}^{N-1}\\left(R R_{i}-R R_{i+1}\\right)^{2}}{N-1}}\n",
    "$$"
   ]
  },
  {
   "cell_type": "code",
   "execution_count": 5,
   "metadata": {
    "id": "DUsNShv7ARdQ"
   },
   "outputs": [],
   "source": [
    "def ciccone2017_rmssd(rri):\n",
    "    return np.sqrt(np.sum((rri[:-1] - rri[1:]) ** 2) / (len(rri) - 1))"
   ]
  },
  {
   "cell_type": "markdown",
   "metadata": {},
   "source": [
    "Equation 2 in [Ciccone et al. (2017)](https://doi.org/10.1002/mus.25573):\n",
    "\n",
    "$$\n",
    "\\mathrm{SD} 1=\\sqrt{\\frac{\\sum_{i=1}^{N-1}\\left(\\frac{1}{\\sqrt{2}} R R_{i}-\\frac{1}{\\sqrt{2}} R R_{i+1}\\right)^{2}}{N-1}}\n",
    "$$"
   ]
  },
  {
   "cell_type": "code",
   "execution_count": 6,
   "metadata": {
    "id": "VIaD3JZ3AlPm"
   },
   "outputs": [],
   "source": [
    "def ciccone2017_sd1(rri):\n",
    "    return np.sqrt(\n",
    "        np.sum((((1 / np.sqrt(2)) * rri[:-1] - (1 / np.sqrt(2)) * rri[1:])) ** 2)\n",
    "        / (len(rri) - 1)\n",
    "    )"
   ]
  },
  {
   "cell_type": "markdown",
   "metadata": {},
   "source": [
    "First equation in Section 2.1. in [Kim et al. (2012)](https://doi.org/10.1016/j.cmpb.2010.11.011), which was cited after Equation 2 in [Ciccone et al. (2017)](https://doi.org/10.1002/mus.25573):\n",
    "\n",
    "$$\n",
    "\\mathrm{SD} 1=\\sqrt{\\operatorname{Var}\\left(\\frac{1}{\\sqrt{2}} \\mathrm{R} \\mathrm{R}_{n}-\\frac{1}{\\sqrt{2}} \\mathrm{R} \\mathrm{R}_{n+1}\\right)}\n",
    "$$"
   ]
  },
  {
   "cell_type": "code",
   "execution_count": 7,
   "metadata": {},
   "outputs": [],
   "source": [
    "def kim2012_sd1(rri):\n",
    "    return np.sqrt(np.var((1 / np.sqrt(2)) * rri[:-1] - (1 / np.sqrt(2)) * rri[1:]))"
   ]
  },
  {
   "cell_type": "code",
   "execution_count": 8,
   "metadata": {
    "id": "BihJ-3rAynbD"
   },
   "outputs": [],
   "source": [
    "from neurokit2.hrv.hrv_utils import _hrv_sanitize_input, _hrv_get_rri\n",
    "\n",
    "\n",
    "def rmssd_sdsd_sd1(peaks, sampling_rate=1000, ddof=1, diff_method=\"Neurokit2\", return_rri=False):\n",
    "    # Sanitize input\n",
    "    peaks = _hrv_sanitize_input(peaks)\n",
    "    if isinstance(peaks, tuple):  # Detect actual sampling rate\n",
    "        peaks, sampling_rate = peaks[0], peaks[1]\n",
    "    # Compute R-R intervals (also referred to as NN) in milliseconds\n",
    "    # rri, _ = _hrv_get_rri(peaks, sampling_rate=sampling_rate, interpolate=False)\n",
    "    rri = _hrv_get_rri(peaks, sampling_rate=sampling_rate, interpolate=False)\n",
    "    if return_rri:\n",
    "        return rri\n",
    "    if diff_method==\"Neurokit2\":\n",
    "        diff_rri = np.diff(rri)\n",
    "    else:\n",
    "        diff_rri = rri[:-1] - rri[1:]\n",
    "    nk_rmssd = np.sqrt(np.nanmean(diff_rri ** 2))\n",
    "    nk_sdsd = np.nanstd(diff_rri, ddof=ddof)\n",
    "    rri_plus = rri[1:]\n",
    "    rri_n = rri[:-1]\n",
    "\n",
    "    x1 = (rri_n - rri_plus) / np.sqrt(2)  # Eq.7\n",
    "    nk_sd1 = np.std(x1, ddof=ddof)\n",
    "    cc_rmssd = ciccone2017_rmssd(rri)\n",
    "    cc_sd1 = ciccone2017_sd1(rri)\n",
    "    km_sd1 = kim2012_sd1(rri)\n",
    "\n",
    "    return pd.DataFrame(\n",
    "        {\n",
    "            \"Neurokit2_RMSSD\": [nk_rmssd],\n",
    "            \"Neurokit2_SDSD\": [nk_sdsd],\n",
    "            \"Neurokit2_SD1\": [nk_sd1],\n",
    "            \"Ciccone2017_RMSSD\": [cc_rmssd],\n",
    "            \"Ciccone2017_SD1\": [cc_sd1],\n",
    "            \"Kim2012_SD1\": [km_sd1]\n",
    "        }\n",
    "    )"
   ]
  },
  {
   "cell_type": "code",
   "execution_count": 9,
   "metadata": {
    "colab": {
     "base_uri": "https://localhost:8080/"
    },
    "id": "TLmY70z2yWLX",
    "outputId": "c3158886-f195-42b4-e025-89c959c8f54e"
   },
   "outputs": [
    {
     "name": "stdout",
     "output_type": "stream",
     "text": [
      "\n",
      "diff method = Neurokit2\n",
      "\n",
      "ddof = 0\n",
      "pearson\n",
      "               Neurokit2_SD1  Kim2012_SD1\n",
      "Neurokit2_SD1            1.0          1.0\n",
      "Kim2012_SD1              1.0          1.0\n",
      "spearman\n",
      "               Neurokit2_SD1  Kim2012_SD1\n",
      "Neurokit2_SD1            1.0          1.0\n",
      "Kim2012_SD1              1.0          1.0\n",
      "\n",
      "diff method = Neurokit2\n",
      "\n",
      "ddof = 1\n",
      "pearson\n",
      "               Neurokit2_SD1  Kim2012_SD1\n",
      "Neurokit2_SD1       1.000000     0.999997\n",
      "Kim2012_SD1         0.999997     1.000000\n",
      "spearman\n",
      "               Neurokit2_SD1  Kim2012_SD1\n",
      "Neurokit2_SD1            1.0          1.0\n",
      "Kim2012_SD1              1.0          1.0\n"
     ]
    }
   ],
   "source": [
    "# diff_method_list = [\"other\", \"Neurokit2\"]\n",
    "diff_method_list = [\"Neurokit2\"]\n",
    "ddof_list = [0, 1]\n",
    "corr_method_list = [\"pearson\", \"spearman\"]\n",
    "for diff_method in diff_method_list:\n",
    "    for ddof in ddof_list:\n",
    "        ddof_hrv_df_list = []\n",
    "        for peaks in peaks_list:\n",
    "            ddof_hrv_df_list.append(rmssd_sdsd_sd1(peaks, sampling_rate=sampling_rate, ddof=ddof, diff_method=diff_method))\n",
    "            ddof_hrv_df = pd.concat(ddof_hrv_df_list)\n",
    "        print(\"\\ndiff method = \" + str(diff_method))\n",
    "        print(\"\\nddof = \" + str(ddof))\n",
    "        for corr_method in corr_method_list:\n",
    "            print(corr_method)\n",
    "            print(ddof_hrv_df.corr(method=corr_method).loc[[\"Neurokit2_SD1\", \"Kim2012_SD1\"],\n",
    "                                                           [\"Neurokit2_SD1\", \"Kim2012_SD1\"]])"
   ]
  },
  {
   "cell_type": "markdown",
   "metadata": {},
   "source": [
    "The pearson correlation is less than 1 between Neurokit2_SD1 and Kim2021_SD1 because the Kim2021_SD1 function used numpy's default for the variance, the population variance, while Neurokit2 uses the sample standard deviation (ddof=1)."
   ]
  },
  {
   "cell_type": "code",
   "execution_count": 10,
   "metadata": {},
   "outputs": [
    {
     "data": {
      "text/html": [
       "<div>\n",
       "<style scoped>\n",
       "    .dataframe tbody tr th:only-of-type {\n",
       "        vertical-align: middle;\n",
       "    }\n",
       "\n",
       "    .dataframe tbody tr th {\n",
       "        vertical-align: top;\n",
       "    }\n",
       "\n",
       "    .dataframe thead th {\n",
       "        text-align: right;\n",
       "    }\n",
       "</style>\n",
       "<table border=\"1\" class=\"dataframe\">\n",
       "  <thead>\n",
       "    <tr style=\"text-align: right;\">\n",
       "      <th></th>\n",
       "      <th>Neurokit2_RMSSD</th>\n",
       "      <th>Neurokit2_SDSD</th>\n",
       "      <th>Neurokit2_SD1</th>\n",
       "      <th>Ciccone2017_RMSSD</th>\n",
       "      <th>Ciccone2017_SD1</th>\n",
       "      <th>Kim2012_SD1</th>\n",
       "    </tr>\n",
       "  </thead>\n",
       "  <tbody>\n",
       "    <tr>\n",
       "      <th>Neurokit2_RMSSD</th>\n",
       "      <td>1.000000</td>\n",
       "      <td>0.999531</td>\n",
       "      <td>0.999531</td>\n",
       "      <td>1.000000</td>\n",
       "      <td>1.000000</td>\n",
       "      <td>0.999519</td>\n",
       "    </tr>\n",
       "    <tr>\n",
       "      <th>Neurokit2_SDSD</th>\n",
       "      <td>0.999531</td>\n",
       "      <td>1.000000</td>\n",
       "      <td>1.000000</td>\n",
       "      <td>0.999531</td>\n",
       "      <td>0.999531</td>\n",
       "      <td>0.999997</td>\n",
       "    </tr>\n",
       "    <tr>\n",
       "      <th>Neurokit2_SD1</th>\n",
       "      <td>0.999531</td>\n",
       "      <td>1.000000</td>\n",
       "      <td>1.000000</td>\n",
       "      <td>0.999531</td>\n",
       "      <td>0.999531</td>\n",
       "      <td>0.999997</td>\n",
       "    </tr>\n",
       "    <tr>\n",
       "      <th>Ciccone2017_RMSSD</th>\n",
       "      <td>1.000000</td>\n",
       "      <td>0.999531</td>\n",
       "      <td>0.999531</td>\n",
       "      <td>1.000000</td>\n",
       "      <td>1.000000</td>\n",
       "      <td>0.999519</td>\n",
       "    </tr>\n",
       "    <tr>\n",
       "      <th>Ciccone2017_SD1</th>\n",
       "      <td>1.000000</td>\n",
       "      <td>0.999531</td>\n",
       "      <td>0.999531</td>\n",
       "      <td>1.000000</td>\n",
       "      <td>1.000000</td>\n",
       "      <td>0.999519</td>\n",
       "    </tr>\n",
       "    <tr>\n",
       "      <th>Kim2012_SD1</th>\n",
       "      <td>0.999519</td>\n",
       "      <td>0.999997</td>\n",
       "      <td>0.999997</td>\n",
       "      <td>0.999519</td>\n",
       "      <td>0.999519</td>\n",
       "      <td>1.000000</td>\n",
       "    </tr>\n",
       "  </tbody>\n",
       "</table>\n",
       "</div>"
      ],
      "text/plain": [
       "                   Neurokit2_RMSSD  Neurokit2_SDSD  Neurokit2_SD1  \\\n",
       "Neurokit2_RMSSD           1.000000        0.999531       0.999531   \n",
       "Neurokit2_SDSD            0.999531        1.000000       1.000000   \n",
       "Neurokit2_SD1             0.999531        1.000000       1.000000   \n",
       "Ciccone2017_RMSSD         1.000000        0.999531       0.999531   \n",
       "Ciccone2017_SD1           1.000000        0.999531       0.999531   \n",
       "Kim2012_SD1               0.999519        0.999997       0.999997   \n",
       "\n",
       "                   Ciccone2017_RMSSD  Ciccone2017_SD1  Kim2012_SD1  \n",
       "Neurokit2_RMSSD             1.000000         1.000000     0.999519  \n",
       "Neurokit2_SDSD              0.999531         0.999531     0.999997  \n",
       "Neurokit2_SD1               0.999531         0.999531     0.999997  \n",
       "Ciccone2017_RMSSD           1.000000         1.000000     0.999519  \n",
       "Ciccone2017_SD1             1.000000         1.000000     0.999519  \n",
       "Kim2012_SD1                 0.999519         0.999519     1.000000  "
      ]
     },
     "execution_count": 10,
     "metadata": {},
     "output_type": "execute_result"
    }
   ],
   "source": [
    "ddof_hrv_df.corr(method=\"pearson\")"
   ]
  },
  {
   "cell_type": "code",
   "execution_count": 11,
   "metadata": {
    "colab": {
     "base_uri": "https://localhost:8080/",
     "height": 269
    },
    "id": "sSGhTGgDYo4Z",
    "outputId": "3aae3c37-aab2-4c50-8518-9d862688f211"
   },
   "outputs": [
    {
     "data": {
      "text/html": [
       "<div>\n",
       "<style scoped>\n",
       "    .dataframe tbody tr th:only-of-type {\n",
       "        vertical-align: middle;\n",
       "    }\n",
       "\n",
       "    .dataframe tbody tr th {\n",
       "        vertical-align: top;\n",
       "    }\n",
       "\n",
       "    .dataframe thead th {\n",
       "        text-align: right;\n",
       "    }\n",
       "</style>\n",
       "<table border=\"1\" class=\"dataframe\">\n",
       "  <thead>\n",
       "    <tr style=\"text-align: right;\">\n",
       "      <th></th>\n",
       "      <th>Neurokit2_RMSSD</th>\n",
       "      <th>Neurokit2_SDSD</th>\n",
       "      <th>Neurokit2_SD1</th>\n",
       "      <th>Ciccone2017_RMSSD</th>\n",
       "      <th>Ciccone2017_SD1</th>\n",
       "      <th>Kim2012_SD1</th>\n",
       "    </tr>\n",
       "  </thead>\n",
       "  <tbody>\n",
       "    <tr>\n",
       "      <th>Neurokit2_RMSSD</th>\n",
       "      <td>1.000000</td>\n",
       "      <td>0.979088</td>\n",
       "      <td>0.979088</td>\n",
       "      <td>1.000000</td>\n",
       "      <td>0.995825</td>\n",
       "      <td>0.979088</td>\n",
       "    </tr>\n",
       "    <tr>\n",
       "      <th>Neurokit2_SDSD</th>\n",
       "      <td>0.979088</td>\n",
       "      <td>1.000000</td>\n",
       "      <td>1.000000</td>\n",
       "      <td>0.979088</td>\n",
       "      <td>0.966667</td>\n",
       "      <td>1.000000</td>\n",
       "    </tr>\n",
       "    <tr>\n",
       "      <th>Neurokit2_SD1</th>\n",
       "      <td>0.979088</td>\n",
       "      <td>1.000000</td>\n",
       "      <td>1.000000</td>\n",
       "      <td>0.979088</td>\n",
       "      <td>0.966667</td>\n",
       "      <td>1.000000</td>\n",
       "    </tr>\n",
       "    <tr>\n",
       "      <th>Ciccone2017_RMSSD</th>\n",
       "      <td>1.000000</td>\n",
       "      <td>0.979088</td>\n",
       "      <td>0.979088</td>\n",
       "      <td>1.000000</td>\n",
       "      <td>0.995825</td>\n",
       "      <td>0.979088</td>\n",
       "    </tr>\n",
       "    <tr>\n",
       "      <th>Ciccone2017_SD1</th>\n",
       "      <td>0.995825</td>\n",
       "      <td>0.966667</td>\n",
       "      <td>0.966667</td>\n",
       "      <td>0.995825</td>\n",
       "      <td>1.000000</td>\n",
       "      <td>0.966667</td>\n",
       "    </tr>\n",
       "    <tr>\n",
       "      <th>Kim2012_SD1</th>\n",
       "      <td>0.979088</td>\n",
       "      <td>1.000000</td>\n",
       "      <td>1.000000</td>\n",
       "      <td>0.979088</td>\n",
       "      <td>0.966667</td>\n",
       "      <td>1.000000</td>\n",
       "    </tr>\n",
       "  </tbody>\n",
       "</table>\n",
       "</div>"
      ],
      "text/plain": [
       "                   Neurokit2_RMSSD  Neurokit2_SDSD  Neurokit2_SD1  \\\n",
       "Neurokit2_RMSSD           1.000000        0.979088       0.979088   \n",
       "Neurokit2_SDSD            0.979088        1.000000       1.000000   \n",
       "Neurokit2_SD1             0.979088        1.000000       1.000000   \n",
       "Ciccone2017_RMSSD         1.000000        0.979088       0.979088   \n",
       "Ciccone2017_SD1           0.995825        0.966667       0.966667   \n",
       "Kim2012_SD1               0.979088        1.000000       1.000000   \n",
       "\n",
       "                   Ciccone2017_RMSSD  Ciccone2017_SD1  Kim2012_SD1  \n",
       "Neurokit2_RMSSD             1.000000         0.995825     0.979088  \n",
       "Neurokit2_SDSD              0.979088         0.966667     1.000000  \n",
       "Neurokit2_SD1               0.979088         0.966667     1.000000  \n",
       "Ciccone2017_RMSSD           1.000000         0.995825     0.979088  \n",
       "Ciccone2017_SD1             0.995825         1.000000     0.966667  \n",
       "Kim2012_SD1                 0.979088         0.966667     1.000000  "
      ]
     },
     "execution_count": 11,
     "metadata": {},
     "output_type": "execute_result"
    }
   ],
   "source": [
    "ddof_hrv_df.corr(method=\"spearman\")"
   ]
  },
  {
   "cell_type": "markdown",
   "metadata": {},
   "source": [
    "Like Neurokit2_RMSSD & Neurokit2_SD1, Ciccone2017_RMSSD is also not perfectly correlated with Kim2012_SD1, regardless of the correlation method."
   ]
  }
 ],
 "metadata": {
  "colab": {
   "collapsed_sections": [],
   "name": "RMSSD_SD1_Ciccone2017.ipynb",
   "provenance": []
  },
  "kernelspec": {
   "display_name": "Python 3",
   "language": "python",
   "name": "python3"
  },
  "language_info": {
   "codemirror_mode": {
    "name": "ipython",
    "version": 3
   },
   "file_extension": ".py",
   "mimetype": "text/x-python",
   "name": "python",
   "nbconvert_exporter": "python",
   "pygments_lexer": "ipython3",
   "version": "3.6.4"
  },
  "toc": {
   "base_numbering": 1,
   "nav_menu": {},
   "number_sections": true,
   "sideBar": true,
   "skip_h1_title": false,
   "title_cell": "Table of Contents",
   "title_sidebar": "Contents",
   "toc_cell": false,
   "toc_position": {},
   "toc_section_display": true,
   "toc_window_display": false
  }
 },
 "nbformat": 4,
 "nbformat_minor": 1
}
